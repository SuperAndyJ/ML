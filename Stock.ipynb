{
 "cells": [
  {
   "cell_type": "code",
   "execution_count": 29,
   "metadata": {},
   "outputs": [
    {
     "name": "stdout",
     "output_type": "stream",
     "text": [
      "[1101.20229661 1072.24675402 1019.18391785 1060.25800709 1072.64967947\n",
      " 1072.92436161 1091.40904269 1110.77909102 1113.90125851 1121.84537395\n",
      " 1131.04286394 1128.81154756 1148.21589767 1163.81617863 1135.57757007\n",
      " 1121.74410369 1087.60863398 1102.44306638 1113.5337571  1120.7908129\n",
      " 1134.37284583 1149.16125206 1180.5445462  1185.07839868 1157.08831729\n",
      " 1167.98091857 1169.83892457 1152.7462406  1118.13009206 1114.49416751\n",
      " 1112.17615163 1069.55090714 1041.71350543 1072.48904654 1020.81198032] 0.9802067711309087 35\n"
     ]
    },
    {
     "data": {
      "image/png": "[encoded data removed]",
      "text/plain": [
       "<Figure size 432x288 with 1 Axes>"
      ]
     },
     "metadata": {
      "needs_background": "light"
     },
     "output_type": "display_data"
    }
   ],
   "source": [
    "import pandas as pd\n",
    "import quandl, datetime\n",
    "import math\n",
    "import matplotlib.pyplot as plt\n",
    "from matplotlib import style\n",
    "import numpy as np\n",
    "from sklearn import preprocessing, svm\n",
    "from sklearn.model_selection import train_test_split\n",
    "from sklearn.linear_model import LinearRegression\n",
    "\n",
    "df = quandl.get('WIKI/GOOGL')\n",
    "df = df[[\"Adj. Open\", \"Adj. High\", \"Adj. Low\", \"Adj. Close\", \"Adj. Volume\"]]\n",
    "df['HiLoPercent'] = (df['Adj. High'] - df['Adj. Close'])/ df['Adj. Close']*100.0\n",
    "df['Percent_change'] = (df['Adj. Close'] - df['Adj. Open'])/ df['Adj. Close']*100.0\n",
    "df = df[['Adj. Close', \"HiLoPercent\", \"Percent_change\", \"Adj. Volume\"]]\n",
    "\n",
    "forecast_col = 'Adj. Close'\n",
    "df.fillna(-99999, inplace=True)\n",
    "\n",
    "forecast_out = int(math.ceil(0.01*len(df)))\n",
    "\n",
    "df['label'] = df[forecast_col].shift(-forecast_out)\n",
    "\n",
    "\n",
    "X = np.array(df.drop(['label'], axis=1))\n",
    "X = preprocessing.scale(X)\n",
    "X_lately = X[-forecast_out:]\n",
    "X = X[:-forecast_out]\n",
    "\n",
    "df.dropna(inplace= True)\n",
    "\n",
    "y = np.array(df['label'])\n",
    "\n",
    "#y = preprocessing.scale(y)\n",
    "\n",
    "X_train, X_test, y_train, y_test = train_test_split(X, y, test_size=0.2)\n",
    "\n",
    "clf = LinearRegression()\n",
    "clf.fit(X_train, y_train)\n",
    "accuracy = clf.score(X_test, y_test)\n",
    "\n",
    "forecast_set = clf.predict(X_lately)\n",
    "print(forecast_set, accuracy, forecast_out)\n",
    "\n",
    "df['Forecast'] = np.nan\n",
    "last_date = df.iloc[-1].name\n",
    "last_unix = last_date.timestamp()\n",
    "one_day = 86400\n",
    "next_unix = last_unix + one_day\n",
    "\n",
    "for i in forecast_set:\n",
    "    next_date = datetime.datetime.fromtimestamp(next_unix)\n",
    "    next_unix += one_day\n",
    "    df.loc[next_date] = [np.NaN for _ in range(len(df.columns) -1)] + [i]\n",
    "df['Adj. Close'].plot()\n",
    "df['Forecast'].plot()\n",
    "plt.legend(loc=4)\n",
    "plt.xlabel('Date')\n",
    "plt.ylabel('Price')\n",
    "plt.show()\n"
   ]
  },
  {
   "cell_type": "code",
   "execution_count": 32,
   "metadata": {},
   "outputs": [
    {
     "data": {
      "text/plain": [
       "array([1101.20229661, 1072.24675402, 1019.18391785, 1060.25800709,\n",
       "       1072.64967947, 1072.92436161, 1091.40904269, 1110.77909102,\n",
       "       1113.90125851, 1121.84537395, 1131.04286394, 1128.81154756,\n",
       "       1148.21589767, 1163.81617863, 1135.57757007, 1121.74410369,\n",
       "       1087.60863398, 1102.44306638, 1113.5337571 , 1120.7908129 ,\n",
       "       1134.37284583, 1149.16125206, 1180.5445462 , 1185.07839868,\n",
       "       1157.08831729, 1167.98091857, 1169.83892457, 1152.7462406 ,\n",
       "       1118.13009206, 1114.49416751, 1112.17615163, 1069.55090714,\n",
       "       1041.71350543, 1072.48904654, 1020.81198032])"
      ]
     },
     "execution_count": 32,
     "metadata": {},
     "output_type": "execute_result"
    }
   ],
   "source": [
    "import pickle \n",
    "with open(\"Stock_clf.pickle\", \"wb\") as f:\n",
    "    pickle.dump(clf, f)\n",
    "\n",
    "cllf = pickle.load(open(\"Stock_clf.pickle\", \"rb\"))\n",
    "cllf.predict(X_lately)"
   ]
  },
  {
   "cell_type": "code",
   "execution_count": null,
   "metadata": {},
   "outputs": [],
   "source": []
  },
  {
   "cell_type": "code",
   "execution_count": null,
   "metadata": {},
   "outputs": [],
   "source": []
  },
  {
   "cell_type": "code",
   "execution_count": null,
   "metadata": {},
   "outputs": [],
   "source": []
  },
  {
   "cell_type": "code",
   "execution_count": null,
   "metadata": {},
   "outputs": [],
   "source": []
  },
  {
   "cell_type": "code",
   "execution_count": null,
   "metadata": {},
   "outputs": [],
   "source": []
  },
  {
   "cell_type": "code",
   "execution_count": null,
   "metadata": {},
   "outputs": [],
   "source": []
  }
 ],
 "metadata": {
  "kernelspec": {
   "display_name": "Python 3",
   "language": "python",
   "name": "python3"
  },
  "language_info": {
   "codemirror_mode": {
    "name": "ipython",
    "version": 3
   },
   "file_extension": ".py",
   "mimetype": "text/x-python",
   "name": "python",
   "nbconvert_exporter": "python",
   "pygments_lexer": "ipython3",
   "version": "3.7.3"
  }
 },
 "nbformat": 4,
 "nbformat_minor": 4
}
