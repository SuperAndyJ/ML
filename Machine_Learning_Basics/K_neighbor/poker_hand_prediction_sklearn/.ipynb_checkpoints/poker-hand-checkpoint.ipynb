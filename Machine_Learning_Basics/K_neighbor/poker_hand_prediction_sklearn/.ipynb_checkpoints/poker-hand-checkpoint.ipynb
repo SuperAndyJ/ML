{
 "cells": [
  {
   "cell_type": "code",
   "execution_count": 1,
   "metadata": {},
   "outputs": [],
   "source": [
    "import pandas as pd"
   ]
  },
  {
   "cell_type": "code",
   "execution_count": 2,
   "metadata": {},
   "outputs": [],
   "source": [
    "import numpy as np"
   ]
  },
  {
   "cell_type": "code",
   "execution_count": 4,
   "metadata": {},
   "outputs": [
    {
     "data": {
      "text/plain": [
       "'C:\\\\Users\\\\Dopamine\\\\Desktop\\\\Machine\\\\ML\\\\Machine_Learning_Basics\\\\K_neighbor\\\\poker_hand_prediction_sklearn'"
      ]
     },
     "execution_count": 4,
     "metadata": {},
     "output_type": "execute_result"
    }
   ],
   "source": [
    "import os\n",
    "os.getcwd()"
   ]
  },
  {
   "cell_type": "code",
   "execution_count": 22,
   "metadata": {},
   "outputs": [],
   "source": [
    "poker_testing_data = pd.read_csv(r\"C:\\Users\\Dopamine\\Desktop\\Machine\\ML\\Machine_Learning_Basics\\K_neighbor\\poker-hand-testing.data\", names=[\"s1\", \"c1\", \"s2\", \"c2\", \"s3\", \"c3\", \"s4\", \"c4\", \"s5\", \"c5\", \"class\"])"
   ]
  },
  {
   "cell_type": "code",
   "execution_count": 36,
   "metadata": {},
   "outputs": [],
   "source": [
    "poker_testing_data.head()\n",
    "poker_testing_data = poker_testing_data.sample(frac=0.01).reset_index(drop=True)"
   ]
  },
  {
   "cell_type": "code",
   "execution_count": 24,
   "metadata": {},
   "outputs": [],
   "source": [
    "poker_training_data = pd.read_csv(r\"C:\\Users\\Dopamine\\Desktop\\Machine\\ML\\Machine_Learning_Basics\\K_neighbor\\poker-hand-training-true.data\", names=[\"s1\", \"c1\", \"s2\", \"c2\", \"s3\", \"c3\", \"s4\", \"c4\", \"s5\", \"c5\", \"class\"])"
   ]
  },
  {
   "cell_type": "code",
   "execution_count": 43,
   "metadata": {},
   "outputs": [
    {
     "name": "stdout",
     "output_type": "stream",
     "text": [
      "<class 'pandas.core.frame.DataFrame'>\n",
      "RangeIndex: 25010 entries, 0 to 25009\n",
      "Data columns (total 11 columns):\n",
      "s1       25010 non-null int64\n",
      "c1       25010 non-null int64\n",
      "s2       25010 non-null int64\n",
      "c2       25010 non-null int64\n",
      "s3       25010 non-null int64\n",
      "c3       25010 non-null int64\n",
      "s4       25010 non-null int64\n",
      "c4       25010 non-null int64\n",
      "s5       25010 non-null int64\n",
      "c5       25010 non-null int64\n",
      "class    25010 non-null int64\n",
      "dtypes: int64(11)\n",
      "memory usage: 2.1 MB\n",
      "<class 'pandas.core.frame.DataFrame'>\n",
      "RangeIndex: 200000 entries, 0 to 199999\n",
      "Data columns (total 11 columns):\n",
      "s1       200000 non-null int64\n",
      "c1       200000 non-null int64\n",
      "s2       200000 non-null int64\n",
      "c2       200000 non-null int64\n",
      "s3       200000 non-null int64\n",
      "c3       200000 non-null int64\n",
      "s4       200000 non-null int64\n",
      "c4       200000 non-null int64\n",
      "s5       200000 non-null int64\n",
      "c5       200000 non-null int64\n",
      "class    200000 non-null int64\n",
      "dtypes: int64(11)\n",
      "memory usage: 16.8 MB\n"
     ]
    }
   ],
   "source": [
    "poker_training_data.info()\n",
    "poker_testing_data.info()"
   ]
  },
  {
   "cell_type": "code",
   "execution_count": 37,
   "metadata": {},
   "outputs": [],
   "source": [
    "X_train = poker_training_data.drop(['class'], 1)\n",
    "X_test = poker_testing_data.drop(['class'], 1)\n",
    "y_train = poker_training_data['class']\n",
    "y_test = poker_testing_data['class']"
   ]
  },
  {
   "cell_type": "code",
   "execution_count": 33,
   "metadata": {},
   "outputs": [],
   "source": [
    "from sklearn import neighbors"
   ]
  },
  {
   "cell_type": "code",
   "execution_count": 38,
   "metadata": {},
   "outputs": [
    {
     "data": {
      "text/plain": [
       "KNeighborsClassifier(algorithm='auto', leaf_size=30, metric='minkowski',\n",
       "                     metric_params=None, n_jobs=None, n_neighbors=5, p=2,\n",
       "                     weights='uniform')"
      ]
     },
     "execution_count": 38,
     "metadata": {},
     "output_type": "execute_result"
    }
   ],
   "source": [
    "clf = neighbors.KNeighborsClassifier()\n",
    "clf.fit(X_train, y_train)"
   ]
  },
  {
   "cell_type": "code",
   "execution_count": 39,
   "metadata": {},
   "outputs": [],
   "source": [
    "accuracy = clf.score(X_test, y_test)"
   ]
  },
  {
   "cell_type": "code",
   "execution_count": 40,
   "metadata": {},
   "outputs": [
    {
     "name": "stdout",
     "output_type": "stream",
     "text": [
      "0.55318\n"
     ]
    }
   ],
   "source": [
    "print(accuracy)"
   ]
  },
  {
   "cell_type": "code",
   "execution_count": 44,
   "metadata": {},
   "outputs": [],
   "source": [
    "from sklearn import svm"
   ]
  },
  {
   "cell_type": "code",
   "execution_count": 50,
   "metadata": {},
   "outputs": [
    {
     "name": "stderr",
     "output_type": "stream",
     "text": [
      "C:\\Users\\Dopamine\\Anaconda3\\lib\\site-packages\\sklearn\\svm\\base.py:193: FutureWarning: The default value of gamma will change from 'auto' to 'scale' in version 0.22 to account better for unscaled features. Set gamma explicitly to 'auto' or 'scale' to avoid this warning.\n",
      "  \"avoid this warning.\", FutureWarning)\n"
     ]
    },
    {
     "data": {
      "text/plain": [
       "SVC(C=1.0, cache_size=200, class_weight=None, coef0=0.0,\n",
       "    decision_function_shape='ovr', degree=3, gamma='auto_deprecated',\n",
       "    kernel='rbf', max_iter=-1, probability=False, random_state=None,\n",
       "    shrinking=True, tol=0.001, verbose=False)"
      ]
     },
     "execution_count": 50,
     "metadata": {},
     "output_type": "execute_result"
    }
   ],
   "source": [
    "clf2 = svm.SVC()\n",
    "clf2.fit(X_train, y_train)"
   ]
  },
  {
   "cell_type": "code",
   "execution_count": 51,
   "metadata": {},
   "outputs": [],
   "source": [
    "accuracy2 = clf2.score(X_test, y_test)"
   ]
  },
  {
   "cell_type": "code",
   "execution_count": 52,
   "metadata": {},
   "outputs": [
    {
     "name": "stdout",
     "output_type": "stream",
     "text": [
      "0.58808\n"
     ]
    }
   ],
   "source": [
    "print(accuracy2)"
   ]
  },
  {
   "cell_type": "code",
   "execution_count": null,
   "metadata": {},
   "outputs": [],
   "source": []
  }
 ],
 "metadata": {
  "kernelspec": {
   "display_name": "Python 3",
   "language": "python",
   "name": "python3"
  },
  "language_info": {
   "codemirror_mode": {
    "name": "ipython",
    "version": 3
   },
   "file_extension": ".py",
   "mimetype": "text/x-python",
   "name": "python",
   "nbconvert_exporter": "python",
   "pygments_lexer": "ipython3",
   "version": "3.7.3"
  }
 },
 "nbformat": 4,
 "nbformat_minor": 4
}
